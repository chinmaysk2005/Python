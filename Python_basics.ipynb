{
  "nbformat": 4,
  "nbformat_minor": 0,
  "metadata": {
    "colab": {
      "provenance": [],
      "collapsed_sections": [
        "C1aLSOSvF6Ir",
        "0QXHy-k8GcRW",
        "4qAqBu-OGxhs",
        "wNPLwkNdP7Vq",
        "6YaeMvj8Wy-Z",
        "ZCR8741OXc0Z",
        "8Ly5vdW3YcOJ",
        "g5GiXSxMpH42",
        "Ns3uYaMVqFhO",
        "U6wdl3wtvMJ-",
        "FRXDNYZ31dyu",
        "j3UvZMX11kH1",
        "v7dpzCeq2TpU",
        "Vagh96qV2gUF",
        "B8TZ-IQN3clt",
        "h3vN3Qs54RUl",
        "ey4OicZu9dck",
        "rBv23x84-CX9",
        "wO1fuh67F5NL"
      ]
    },
    "kernelspec": {
      "name": "python3",
      "display_name": "Python 3"
    },
    "language_info": {
      "name": "python"
    }
  },
  "cells": [
    {
      "cell_type": "code",
      "execution_count": null,
      "metadata": {
        "id": "f3WWiKknzXsN"
      },
      "outputs": [],
      "source": []
    },
    {
      "cell_type": "markdown",
      "source": [
        "# **Basic  Syntax Rules**"
      ],
      "metadata": {
        "id": "vldH8mAJzfwV"
      }
    },
    {
      "cell_type": "code",
      "source": [
        "print(\"hello world\") #function call\n",
        "x=5 #variable assignment\n",
        "y=10 #no need to declare type"
      ],
      "metadata": {
        "colab": {
          "base_uri": "https://localhost:8080/"
        },
        "id": "-s74hVGlzras",
        "outputId": "d0a662a2-1599-47f9-93eb-efd57be33af8"
      },
      "execution_count": null,
      "outputs": [
        {
          "output_type": "stream",
          "name": "stdout",
          "text": [
            "hello world\n"
          ]
        }
      ]
    },
    {
      "cell_type": "markdown",
      "source": [
        "## Python in case **Sensitive**"
      ],
      "metadata": {
        "id": "uUqxmd3Zz2iM"
      }
    },
    {
      "cell_type": "code",
      "source": [
        "Name=\"Even\"\n",
        "name=\"levi\"\n",
        "print(Name,name)"
      ],
      "metadata": {
        "colab": {
          "base_uri": "https://localhost:8080/"
        },
        "id": "tMoVfvgxz6fU",
        "outputId": "77b3f5bf-e08d-4398-fd0d-67338eae55a1"
      },
      "execution_count": null,
      "outputs": [
        {
          "output_type": "stream",
          "name": "stdout",
          "text": [
            "Even levi\n"
          ]
        }
      ]
    },
    {
      "cell_type": "markdown",
      "source": [
        "### **Indentationn**"
      ],
      "metadata": {
        "id": "suHZJrFR5l3z"
      }
    },
    {
      "cell_type": "code",
      "source": [
        "if x>0:\n",
        "  print(\"x is positive\")\n",
        "  print(\"This is inside the if block\")"
      ],
      "metadata": {
        "colab": {
          "base_uri": "https://localhost:8080/"
        },
        "id": "ayQNIqU75tm8",
        "outputId": "3d1099d2-f999-441c-e44d-addd827fe6c4"
      },
      "execution_count": null,
      "outputs": [
        {
          "output_type": "stream",
          "name": "stdout",
          "text": [
            "x is positive\n",
            "This is inside the if block\n"
          ]
        }
      ]
    },
    {
      "cell_type": "markdown",
      "source": [
        "## Numeric **Types**"
      ],
      "metadata": {
        "id": "R6X-3GJC6kCb"
      }
    },
    {
      "cell_type": "code",
      "source": [
        "age=25 #integer\n",
        "height=5.9 #float\n",
        "complex_num=3+4j #complex"
      ],
      "metadata": {
        "id": "KIBv_7D57JrD"
      },
      "execution_count": null,
      "outputs": []
    },
    {
      "cell_type": "markdown",
      "source": [
        "## **String type**"
      ],
      "metadata": {
        "id": "rDr7DhW_7Xo7"
      }
    },
    {
      "cell_type": "code",
      "source": [
        "name=\"alice\"\n",
        "massage=\"hello world\"\n",
        "multiline=\"\"\"This is\n",
        "a Multiline text\"\"\""
      ],
      "metadata": {
        "id": "OVt9oTCZ7gOE"
      },
      "execution_count": null,
      "outputs": []
    },
    {
      "cell_type": "markdown",
      "source": [
        "## **Boolean Type**"
      ],
      "metadata": {
        "id": "xiTIwij77xP7"
      }
    },
    {
      "cell_type": "code",
      "source": [
        "is_active=True\n",
        "is_finished=false"
      ],
      "metadata": {
        "colab": {
          "base_uri": "https://localhost:8080/",
          "height": 158
        },
        "id": "fOim_bOx73CT",
        "outputId": "34010761-9369-4032-cb1d-09d5a338e6c7"
      },
      "execution_count": null,
      "outputs": [
        {
          "output_type": "error",
          "ename": "NameError",
          "evalue": "name 'false' is not defined",
          "traceback": [
            "\u001b[0;31m---------------------------------------------------------------------------\u001b[0m",
            "\u001b[0;31mNameError\u001b[0m                                 Traceback (most recent call last)",
            "\u001b[0;32m/tmp/ipython-input-227741583.py\u001b[0m in \u001b[0;36m<cell line: 0>\u001b[0;34m()\u001b[0m\n\u001b[1;32m      1\u001b[0m \u001b[0mis_active\u001b[0m\u001b[0;34m=\u001b[0m\u001b[0;32mTrue\u001b[0m\u001b[0;34m\u001b[0m\u001b[0;34m\u001b[0m\u001b[0m\n\u001b[0;32m----> 2\u001b[0;31m \u001b[0mis_finished\u001b[0m\u001b[0;34m=\u001b[0m\u001b[0mfalse\u001b[0m\u001b[0;34m\u001b[0m\u001b[0;34m\u001b[0m\u001b[0m\n\u001b[0m",
            "\u001b[0;31mNameError\u001b[0m: name 'false' is not defined"
          ]
        }
      ]
    },
    {
      "cell_type": "markdown",
      "source": [
        "## Type **Checking**"
      ],
      "metadata": {
        "id": "hOjnlTeH8bJD"
      }
    },
    {
      "cell_type": "code",
      "source": [
        "print(type(age))\n",
        "print(type(height))\n",
        "print(type(name))"
      ],
      "metadata": {
        "colab": {
          "base_uri": "https://localhost:8080/"
        },
        "id": "-_v3HL-A8fPj",
        "outputId": "894e2fe4-ba44-4410-e12b-abac592c94b9"
      },
      "execution_count": null,
      "outputs": [
        {
          "output_type": "stream",
          "name": "stdout",
          "text": [
            "<class 'int'>\n",
            "<class 'float'>\n",
            "<class 'str'>\n"
          ]
        }
      ]
    },
    {
      "cell_type": "markdown",
      "source": [
        "### Type **Conversion**"
      ],
      "metadata": {
        "id": "SyLDM1ij8wvk"
      }
    },
    {
      "cell_type": "code",
      "source": [
        "str_num=\"123\"\n",
        "int_num=int(str_num)\n",
        "float_num=float(str_num)\n",
        "print(f\"Original:{str_num} (type:{type(str_num)})\")\n",
        "print(f\"Integer:{int_num} (type:{type(int_num)})\")\n",
        "print(f\"Float:{float_num} (type:{type(float_num)})\")"
      ],
      "metadata": {
        "colab": {
          "base_uri": "https://localhost:8080/"
        },
        "id": "SbyaETLY81jb",
        "outputId": "a34f5ceb-0d0f-4d12-97fc-86a18559f632"
      },
      "execution_count": null,
      "outputs": [
        {
          "output_type": "stream",
          "name": "stdout",
          "text": [
            "Original:123 (type:<class 'str'>)\n",
            "Integer:123 (type:<class 'int'>)\n",
            "Float:123.0 (type:<class 'float'>)\n"
          ]
        }
      ]
    },
    {
      "cell_type": "markdown",
      "source": [
        "## **Hand-on Exercise**"
      ],
      "metadata": {
        "id": "7unfYJEC9abD"
      }
    },
    {
      "cell_type": "markdown",
      "source": [
        "# **Exercise 1:Personal Information**"
      ],
      "metadata": {
        "id": "iGETunzv9kbb"
      }
    },
    {
      "cell_type": "markdown",
      "source": [
        "# Create various for personal"
      ],
      "metadata": {
        "id": "v892Spxb9s0T"
      }
    },
    {
      "cell_type": "code",
      "source": [
        "first_name=\"Chinmay\"\n",
        "last_name=\"Karjagimath\"\n",
        "age=20\n",
        "height=5.7\n",
        "is_student=True"
      ],
      "metadata": {
        "id": "2X42FHso9yJS"
      },
      "execution_count": null,
      "outputs": []
    },
    {
      "cell_type": "markdown",
      "source": [
        "# Print Formatted information"
      ],
      "metadata": {
        "id": "bqAEOyes99ob"
      }
    },
    {
      "cell_type": "code",
      "source": [
        "print(f\"Name:{first_name} {last_name}\")\n",
        "print(f\"Age:{age}\")\n",
        "print(f\"Height: {height}\")\n",
        "print(f\"Student: {is_student}\")"
      ],
      "metadata": {
        "colab": {
          "base_uri": "https://localhost:8080/"
        },
        "id": "MYXp4zne-C76",
        "outputId": "a9aa203f-c83e-4f8c-90ee-40a193ba10db"
      },
      "execution_count": null,
      "outputs": [
        {
          "output_type": "stream",
          "name": "stdout",
          "text": [
            "Name:Chinmay Karjagimath\n",
            "Age:25\n",
            "Height: 5.9\n",
            "Student: True\n"
          ]
        }
      ]
    },
    {
      "cell_type": "markdown",
      "source": [
        "# Type Conversion"
      ],
      "metadata": {
        "id": "jjar5ByH-O9U"
      }
    },
    {
      "cell_type": "code",
      "source": [
        "age_str=str(age)\n",
        "height_int=int(height)\n",
        "print(f\"Age as String: {age_str}\")\n",
        "print(f\"Height as Integer: {height_int}\")"
      ],
      "metadata": {
        "colab": {
          "base_uri": "https://localhost:8080/"
        },
        "id": "YNWM-G4m-SAa",
        "outputId": "a6e1fd81-3554-43fb-fc2a-8342db938703"
      },
      "execution_count": null,
      "outputs": [
        {
          "output_type": "stream",
          "name": "stdout",
          "text": [
            "Age as String: 25\n",
            "Height as Integer: 5\n"
          ]
        }
      ]
    },
    {
      "cell_type": "markdown",
      "source": [
        "## **Operators and Basic Oparations*"
      ],
      "metadata": {
        "id": "kErUH-lA-Y0T"
      }
    },
    {
      "cell_type": "markdown",
      "source": [
        "# Arithmetic Oparations"
      ],
      "metadata": {
        "id": "LMQL7zg0-ejb"
      }
    },
    {
      "cell_type": "code",
      "source": [
        "a=10\n",
        "b=3\n",
        "print(f\"Addition: {a} + {b} = {a+b}\")\n",
        "print(f\"Subtraction: {a} - {b} = {a-b}\")\n",
        "print(f\"Multiplication: {a} * {b} = {a*b}\")\n",
        "print(f\"Division: {a} / {b} = {a/b}\")\n",
        "print(f\"Floor division: {a} // {b} = {a//b}\")\n",
        "print(f\"Modulus: {a} % {b} = {a%b}\")\n",
        "print(f\"Exponentiation: {a} ** {b} = {a**b}\")"
      ],
      "metadata": {
        "colab": {
          "base_uri": "https://localhost:8080/"
        },
        "id": "UYMjCBvM-s8q",
        "outputId": "ebfe228c-322a-47df-c7e3-2b416cb5317e"
      },
      "execution_count": null,
      "outputs": [
        {
          "output_type": "stream",
          "name": "stdout",
          "text": [
            "Addition: 10 + 3 = 13\n",
            "Subtraction: 10 - 3 = 7\n",
            "Multiplication: 10 * 3 = 30\n",
            "Division: 10 / 3 = 3.3333333333333335\n",
            "Floor division: 10 // 3 = 3\n",
            "Modulus: 10 % 3 = 1\n",
            "Exponentiation: 10 ** 3 = 1000\n"
          ]
        }
      ]
    },
    {
      "cell_type": "markdown",
      "source": [
        "# Order of Operations(PEMDAS)"
      ],
      "metadata": {
        "id": "vc-3U5n5-x-7"
      }
    },
    {
      "cell_type": "markdown",
      "source": [
        "- P - Parentheses\n",
        "- E - Exponents\n",
        "- M - Multiplication\n",
        "- D - Division\n",
        "- A - Addition\n",
        "- S - Subtraction"
      ],
      "metadata": {
        "id": "1zJIBzNA-45D"
      }
    },
    {
      "cell_type": "code",
      "source": [],
      "metadata": {
        "id": "zIp7OP11_Fnj"
      },
      "execution_count": null,
      "outputs": []
    },
    {
      "cell_type": "markdown",
      "source": [
        "# Relational Operators (or) Comparsion"
      ],
      "metadata": {
        "id": "AuDVfwQU_GZD"
      }
    },
    {
      "cell_type": "code",
      "source": [
        "x=5\n",
        "y=10\n",
        "print(f\"{x} == {y}: {x==y}\") #Equal to\n",
        "print(f\"{x} != {y}: {x!=y}\") #Not equal to\n",
        "print(f\"{x} < {y}: {x<y}\") # Less than\n",
        "print(f\"{x} > {y}: {x>y}\") # Greater than\n",
        "print(f\"{x} <= {y}: {x<=y}\") # Less than or Equal\n",
        "print(f\"{x} >= {y}: {x>=y}\") # Greater than or Equal"
      ],
      "metadata": {
        "colab": {
          "base_uri": "https://localhost:8080/"
        },
        "id": "ltWrhcze_OS7",
        "outputId": "2b858392-9077-4edb-c9e9-33ea2b703d26"
      },
      "execution_count": null,
      "outputs": [
        {
          "output_type": "stream",
          "name": "stdout",
          "text": [
            "5 == 10: False\n",
            "5 != 10: True\n",
            "5 < 10: True\n",
            "5 > 10: False\n",
            "5 <= 10: True\n",
            "5 >= 10: False\n"
          ]
        }
      ]
    },
    {
      "cell_type": "markdown",
      "source": [
        "# String Operations"
      ],
      "metadata": {
        "id": "nVK6zT6g_1Wb"
      }
    },
    {
      "cell_type": "code",
      "source": [
        "name1=\"Eren\"\n",
        "name2=\"Levi\"\n",
        "print(f\"'{name1}' < '{name2}': {name1<name2}\")"
      ],
      "metadata": {
        "colab": {
          "base_uri": "https://localhost:8080/"
        },
        "id": "uQanrnMz_51z",
        "outputId": "2ece5bf4-c600-44b5-ec2f-9bb8f0a4e857"
      },
      "execution_count": null,
      "outputs": [
        {
          "output_type": "stream",
          "name": "stdout",
          "text": [
            "'Eren' < 'Levi': True\n"
          ]
        }
      ]
    },
    {
      "cell_type": "markdown",
      "source": [
        "## Logical Operators"
      ],
      "metadata": {
        "id": "RhkX4fKHAAm7"
      }
    },
    {
      "cell_type": "code",
      "source": [
        "p=True\n",
        "q=False\n",
        "print(f\"p and q:{p and q}\") # Both must be True\n",
        "print(f\"p or q:{p or q}\") # At least one must be True\n",
        "print(f\"not p:{not p}\") # Opposite of p"
      ],
      "metadata": {
        "colab": {
          "base_uri": "https://localhost:8080/"
        },
        "id": "W8d-fhETENZa",
        "outputId": "fd6afb7d-3a52-4425-e8d5-6dfe762eff66"
      },
      "execution_count": null,
      "outputs": [
        {
          "output_type": "stream",
          "name": "stdout",
          "text": [
            "p and q:False\n",
            "p or q:True\n",
            "not p:False\n"
          ]
        }
      ]
    },
    {
      "cell_type": "markdown",
      "source": [
        "### **Dictionaries**"
      ],
      "metadata": {
        "id": "7mjYNdxdERhU"
      }
    },
    {
      "cell_type": "markdown",
      "source": [
        "# Dictionary Creation"
      ],
      "metadata": {
        "id": "WNJ2c945ElR8"
      }
    },
    {
      "cell_type": "code",
      "source": [
        "person={\"name\":\"Alicer Jhonson\",\"age\":23,\"profession\":\"Software Engineer\",\"salary\":75000,\"skills\":[\"python\",\"Javascript\",\"SQL\"]}"
      ],
      "metadata": {
        "id": "gd2fwUgPEosc"
      },
      "execution_count": null,
      "outputs": []
    },
    {
      "cell_type": "markdown",
      "source": [
        "Accessing Values"
      ],
      "metadata": {
        "id": "dhfWe-iFFObW"
      }
    },
    {
      "cell_type": "code",
      "source": [
        "print(f\"Name:{person['name']}\")\n",
        "print(f\"Age:{person.get('age','unknown')}\") #safe access"
      ],
      "metadata": {
        "id": "LtskqOVRFRkL"
      },
      "execution_count": null,
      "outputs": []
    },
    {
      "cell_type": "markdown",
      "source": [
        "# Dictionary Methods"
      ],
      "metadata": {
        "id": "C1aLSOSvF6Ir"
      }
    },
    {
      "cell_type": "code",
      "source": [
        "print(f\"Keys:{list(person.keys())}\")\n",
        "print(f\"Values:{list(person.values())}\")\n",
        "print(f\"Items:{list(person.items())}\")"
      ],
      "metadata": {
        "id": "8mhvoroxGB_7"
      },
      "execution_count": null,
      "outputs": []
    },
    {
      "cell_type": "markdown",
      "source": [
        "# Adding/updating"
      ],
      "metadata": {
        "id": "0QXHy-k8GcRW"
      }
    },
    {
      "cell_type": "code",
      "source": [
        "person[\"location\"]=\"New York\"\n",
        "person[\"salary\"]=80000 #update existing"
      ],
      "metadata": {
        "id": "fImmnO1VGgK0"
      },
      "execution_count": null,
      "outputs": []
    },
    {
      "cell_type": "markdown",
      "source": [
        "# Practical use case: Inventory **Management**"
      ],
      "metadata": {
        "id": "4qAqBu-OGxhs"
      }
    },
    {
      "cell_type": "code",
      "source": [
        "inventory={\"laptops\":{\"quantity\":50,\"price\":999.99},\"phone\":{\"quantity\":50,\"price\":599.99},\"tablets\":{\"quantity\":50,\"price\":399.99}}"
      ],
      "metadata": {
        "id": "Qb7eR9VDHAT8"
      },
      "execution_count": null,
      "outputs": []
    },
    {
      "cell_type": "markdown",
      "source": [
        "# Nested Access"
      ],
      "metadata": {
        "id": "pVflgLvGI9OC"
      }
    },
    {
      "cell_type": "code",
      "source": [
        "print(f\"Laptop prices:${inventory['laptops']['price']}\")"
      ],
      "metadata": {
        "colab": {
          "base_uri": "https://localhost:8080/"
        },
        "id": "AO0NYSMVJZHi",
        "outputId": "e8eff500-95d5-43c9-8256-f5b37dd0439f"
      },
      "execution_count": null,
      "outputs": [
        {
          "output_type": "stream",
          "name": "stdout",
          "text": [
            "Laptop prices:$999.99\n"
          ]
        }
      ]
    },
    {
      "cell_type": "markdown",
      "source": [
        "## **Sets**"
      ],
      "metadata": {
        "id": "SAIh2G4uJnxz"
      }
    },
    {
      "cell_type": "markdown",
      "source": [
        "## Sets contain unique **elements**"
      ],
      "metadata": {
        "id": "aghLjSgOKDwq"
      }
    },
    {
      "cell_type": "code",
      "source": [
        "colors={\"red\",\"green\",\"blue\",\"red\"} #Duplicate removed\n",
        "print(f\"colors:{colors}\")"
      ],
      "metadata": {
        "colab": {
          "base_uri": "https://localhost:8080/"
        },
        "id": "9crD9fjEKKkR",
        "outputId": "6bfd42c3-dd29-4f10-b3b6-41caac427408"
      },
      "execution_count": null,
      "outputs": [
        {
          "output_type": "stream",
          "name": "stdout",
          "text": [
            "colors:{'blue', 'red', 'green'}\n"
          ]
        }
      ]
    },
    {
      "cell_type": "markdown",
      "source": [
        "# Set Operation"
      ],
      "metadata": {
        "id": "OIhnItiAK_by"
      }
    },
    {
      "cell_type": "code",
      "source": [
        "team1_skills={\"Python\",\"Javascripts\",\"SQL\",\"React\"}\n",
        "team2_skills={\"Javascripts\",\"SQL\",\"java\",\"spring\"}"
      ],
      "metadata": {
        "id": "7U_l88GDLFVC"
      },
      "execution_count": null,
      "outputs": []
    },
    {
      "cell_type": "markdown",
      "source": [
        "# Comman Operations"
      ],
      "metadata": {
        "id": "TrbdqRb2Lf1B"
      }
    },
    {
      "cell_type": "code",
      "source": [
        "print(f\"common skills:{team1_skills.intersection(team2_skills)}\")\n",
        "print(f\"All skills:{team1_skills.union(team2_skills)}\")\n",
        "print(f\"Team1 only:{team1_skills.difference(team2_skills)}\")"
      ],
      "metadata": {
        "colab": {
          "base_uri": "https://localhost:8080/"
        },
        "id": "apavc-EJLj5C",
        "outputId": "e5e247e8-02b6-4ff4-947e-78364021c1dd"
      },
      "execution_count": null,
      "outputs": [
        {
          "output_type": "stream",
          "name": "stdout",
          "text": [
            "common skills:{'Javascripts', 'SQL'}\n",
            "All skills:{'Javascripts', 'SQL', 'React', 'Python', 'spring', 'java'}\n",
            "Team1 only:{'Python', 'React'}\n"
          ]
        }
      ]
    },
    {
      "cell_type": "markdown",
      "source": [
        "# Adding to sets"
      ],
      "metadata": {
        "id": "ZD77IxpLMAQ6"
      }
    },
    {
      "cell_type": "code",
      "source": [
        "colors.add(\"yellow\")\n",
        "colors.update([\"purple\",\"orange\"])\n",
        "print(f\"update colors:{colors}\")"
      ],
      "metadata": {
        "colab": {
          "base_uri": "https://localhost:8080/"
        },
        "id": "bIMegChpMD4a",
        "outputId": "8cfe230e-2fae-4af2-9c3a-4db97fbd23a1"
      },
      "execution_count": null,
      "outputs": [
        {
          "output_type": "stream",
          "name": "stdout",
          "text": [
            "update colors:{'purple', 'yellow', 'blue', 'red', 'green', 'orange'}\n"
          ]
        }
      ]
    },
    {
      "cell_type": "markdown",
      "source": [
        "# **Control Flow**"
      ],
      "metadata": {
        "id": "s5rLVbmfPg2k"
      }
    },
    {
      "cell_type": "markdown",
      "source": [
        "## Conditional Statements"
      ],
      "metadata": {
        "id": "7exxJLoePwSR"
      }
    },
    {
      "cell_type": "markdown",
      "source": [
        "### Basic if-else"
      ],
      "metadata": {
        "id": "wNPLwkNdP7Vq"
      }
    },
    {
      "cell_type": "code",
      "source": [
        "def get_grade_letter(score):\n",
        "  if score >=90:\n",
        "    return \"A\"\n",
        "  elif score >80:\n",
        "    return \"B\"\n",
        "  elif score >70:\n",
        "    return \"C\"\n",
        "  elif score >60:\n",
        "    return \"D\"\n",
        "  else:\n",
        "    return \"F\"\n"
      ],
      "metadata": {
        "id": "ywtddDx3QRC5"
      },
      "execution_count": null,
      "outputs": []
    },
    {
      "cell_type": "markdown",
      "source": [
        "# Test the Function"
      ],
      "metadata": {
        "id": "EwShTvtVRaXL"
      }
    },
    {
      "cell_type": "code",
      "source": [
        "test_scores=[95,83,72,65,58]\n",
        "for score in test_scores:\n",
        "  grade=get_grade_letter(score)\n",
        "  print(f\"Score {score}: Grade {grade}\")"
      ],
      "metadata": {
        "colab": {
          "base_uri": "https://localhost:8080/"
        },
        "id": "kVpnjUEDRdf5",
        "outputId": "62cbb826-8a34-49d7-aeaa-cfc74c66686e"
      },
      "execution_count": null,
      "outputs": [
        {
          "output_type": "stream",
          "name": "stdout",
          "text": [
            "Score 95: Grade A\n",
            "Score 83: Grade B\n",
            "Score 72: Grade C\n",
            "Score 65: Grade D\n",
            "Score 58: Grade F\n"
          ]
        }
      ]
    },
    {
      "cell_type": "markdown",
      "source": [
        "# Nested Consition"
      ],
      "metadata": {
        "id": "-VT3dNI6SxoJ"
      }
    },
    {
      "cell_type": "code",
      "source": [
        "def get_shipping_cost(weight, distance):\n",
        "  base_cost = 5.0\n",
        "\n",
        "  if weight <= 1:\n",
        "    weight_cost = 2.0\n",
        "  elif weight<=5:\n",
        "    weight_cost=5.0\n",
        "  else:\n",
        "    weight_cost=10.0\n",
        "\n",
        "  if distance<=100:\n",
        "    distance_cost=1.0\n",
        "  elif distance<=500:\n",
        "    distance_cost=3.0\n",
        "  else:\n",
        "    distance_cost=7.0\n",
        "  return base_cost+weight_cost+distance_cost\n"
      ],
      "metadata": {
        "id": "r2k52fpKS0_q"
      },
      "execution_count": null,
      "outputs": []
    },
    {
      "cell_type": "markdown",
      "source": [
        "# Test Shipping Costs"
      ],
      "metadata": {
        "id": "hUrkeUw7S7-Z"
      }
    },
    {
      "cell_type": "code",
      "source": [
        "print(f\"Light, colors:${get_shipping_cost(0.5,50)}\")\n",
        "print(f\"Heavy, far:${get_shipping_cost(10,800)}\")"
      ],
      "metadata": {
        "colab": {
          "base_uri": "https://localhost:8080/"
        },
        "id": "wyMQB3i-TD5y",
        "outputId": "1987b823-45d1-447f-e00b-e3192a5aad7e"
      },
      "execution_count": null,
      "outputs": [
        {
          "output_type": "stream",
          "name": "stdout",
          "text": [
            "Light, colors:$8.0\n",
            "Heavy, far:$22.0\n"
          ]
        }
      ]
    },
    {
      "cell_type": "markdown",
      "source": [
        "## Loops-For loop"
      ],
      "metadata": {
        "id": "MIfIwkfTUWzD"
      }
    },
    {
      "cell_type": "markdown",
      "source": [
        "### Basic for loops"
      ],
      "metadata": {
        "id": "6YaeMvj8Wy-Z"
      }
    },
    {
      "cell_type": "code",
      "source": [
        "fruits=[\"apple\",\"banana\",\"orange\",\"grapes\"]\n",
        "for fruits in fruits:\n",
        "  print(f\"I like {fruits}\")"
      ],
      "metadata": {
        "colab": {
          "base_uri": "https://localhost:8080/"
        },
        "id": "ZqEVrOQRW7zA",
        "outputId": "d4b865d3-7000-4d4a-f94e-3a2bdc0bdd6a"
      },
      "execution_count": null,
      "outputs": [
        {
          "output_type": "stream",
          "name": "stdout",
          "text": [
            "I like apple\n",
            "I like banana\n",
            "I like orange\n",
            "I like grapes\n"
          ]
        }
      ]
    },
    {
      "cell_type": "markdown",
      "source": [
        "### loop with enumarate (get index)**bold text**"
      ],
      "metadata": {
        "id": "ZCR8741OXc0Z"
      }
    },
    {
      "cell_type": "code",
      "source": [
        "for i,fruits in enumerate(fruits):\n",
        "  print(i+1,fruit)"
      ],
      "metadata": {
        "colab": {
          "base_uri": "https://localhost:8080/"
        },
        "id": "pugUVfNuXlWx",
        "outputId": "7a1bde14-7266-4eae-a14c-c110f69e76c3"
      },
      "execution_count": null,
      "outputs": [
        {
          "output_type": "stream",
          "name": "stdout",
          "text": [
            "1 grapes\n"
          ]
        }
      ]
    },
    {
      "cell_type": "code",
      "source": [],
      "metadata": {
        "id": "v6BKTqWBXpTZ"
      },
      "execution_count": null,
      "outputs": []
    },
    {
      "cell_type": "markdown",
      "source": [
        "### loop with range"
      ],
      "metadata": {
        "id": "8Ly5vdW3YcOJ"
      }
    },
    {
      "cell_type": "code",
      "source": [
        "for day in range(1,8):\n",
        "  print(day)"
      ],
      "metadata": {
        "colab": {
          "base_uri": "https://localhost:8080/"
        },
        "id": "Fhh3Y1ZXYhvo",
        "outputId": "290bd833-f20b-465e-9e74-bb0991b95706"
      },
      "execution_count": null,
      "outputs": [
        {
          "output_type": "stream",
          "name": "stdout",
          "text": [
            "1\n",
            "2\n",
            "3\n",
            "4\n",
            "5\n",
            "6\n",
            "7\n"
          ]
        }
      ]
    },
    {
      "cell_type": "markdown",
      "source": [
        "### Nested loop creating a Multiplication table"
      ],
      "metadata": {
        "id": "g5GiXSxMpH42"
      }
    },
    {
      "cell_type": "code",
      "source": [
        "print(\"multiplication table:\")\n",
        "for i in range(1,6):\n",
        "  for j in range(1,6):\n",
        "    product=i*j\n",
        "    print(f\"{i}*{j}={product:2d}\",end=\" \")\n",
        "    print()"
      ],
      "metadata": {
        "colab": {
          "base_uri": "https://localhost:8080/"
        },
        "id": "FbpxdaqrpRHQ",
        "outputId": "4bbf5e7c-9135-42d4-9887-f105337babd3"
      },
      "execution_count": null,
      "outputs": [
        {
          "output_type": "stream",
          "name": "stdout",
          "text": [
            "multiplication table:\n",
            "1*1= 1 \n",
            "1*2= 2 \n",
            "1*3= 3 \n",
            "1*4= 4 \n",
            "1*5= 5 \n",
            "2*1= 2 \n",
            "2*2= 4 \n",
            "2*3= 6 \n",
            "2*4= 8 \n",
            "2*5=10 \n",
            "3*1= 3 \n",
            "3*2= 6 \n",
            "3*3= 9 \n",
            "3*4=12 \n",
            "3*5=15 \n",
            "4*1= 4 \n",
            "4*2= 8 \n",
            "4*3=12 \n",
            "4*4=16 \n",
            "4*5=20 \n",
            "5*1= 5 \n",
            "5*2=10 \n",
            "5*3=15 \n",
            "5*4=20 \n",
            "5*5=25 \n"
          ]
        }
      ]
    },
    {
      "cell_type": "markdown",
      "source": [
        "### Processing data with loops"
      ],
      "metadata": {
        "id": "Ns3uYaMVqFhO"
      }
    },
    {
      "cell_type": "code",
      "source": [
        "sales_data=[\n",
        "    {\"product\":\"laptop\",\"price\":999,\"quantity\":5},\n",
        "    {\"product\":\"phone\",\"price\":599,\"quantity\":10},\n",
        "    {\"product\":\"Tablet\",\"price\":399,\"quantity\":3}\n",
        "]\n",
        "total_revenue=0\n",
        "\n",
        "for item in sales_data:\n",
        "    item_revenue = item[\"price\"] * item[\"quantity\"]\n",
        "    total_revenue += item_revenue\n",
        "    print(f\"{item['product']}: ${item_revenue}\")\n",
        "\n",
        "    print(f\"Total Revenue: ${total_revenue}\")"
      ],
      "metadata": {
        "colab": {
          "base_uri": "https://localhost:8080/"
        },
        "id": "N4iT-iaGqK6O",
        "outputId": "d2de0f80-f27c-4233-a4df-d0905fb2d58d"
      },
      "execution_count": null,
      "outputs": [
        {
          "output_type": "stream",
          "name": "stdout",
          "text": [
            "laptop: $4995\n",
            "Total Revenue: $4995\n",
            "phone: $5990\n",
            "Total Revenue: $10985\n",
            "Tablet: $1197\n",
            "Total Revenue: $12182\n"
          ]
        }
      ]
    },
    {
      "cell_type": "code",
      "source": [],
      "metadata": {
        "id": "uTp63NEUtwVW"
      },
      "execution_count": null,
      "outputs": []
    },
    {
      "cell_type": "markdown",
      "source": [
        "### while loop for user input simulation"
      ],
      "metadata": {
        "id": "U6wdl3wtvMJ-"
      }
    },
    {
      "cell_type": "code",
      "source": [
        "def simple_guessing_game():\n",
        "  target=7\n",
        "  guess=0\n",
        "  attempts=0\n",
        "  print(\"Guess the number bt 1 and 10\")\n",
        "  while guess !=target:\n",
        "    #simulate user inpout\n",
        "    import random\n",
        "    guess=random.randint(1,10)\n",
        "    attempts+=1\n",
        "\n",
        "    if guess <target:\n",
        "      print(f\"Guess{attempts}: {guess}- Too low!\")\n",
        "    elif guess > target:\n",
        "      print(f\"Guess{attempts}: {guess}- Too high!\")\n",
        "    else:\n",
        "      print(f\"Guess{attempts}: {guess}- correct\")\n",
        "\n",
        "    if attempts>10:\n",
        "      print(\"max attempts reached!\")\n",
        "      break\n",
        "\n",
        "  print(f\"Game finished in{attempts} attempts\")\n",
        "simple_guessing_game()"
      ],
      "metadata": {
        "colab": {
          "base_uri": "https://localhost:8080/"
        },
        "id": "oUnZBSGkzqLt",
        "outputId": "15ea7a84-016e-42d9-d004-6ae9e72ec571"
      },
      "execution_count": null,
      "outputs": [
        {
          "output_type": "stream",
          "name": "stdout",
          "text": [
            "Guess the number bt 1 and 10\n",
            "Guess1: 3- Too low!\n",
            "Guess2: 3- Too low!\n",
            "Guess3: 1- Too low!\n",
            "Guess4: 3- Too low!\n",
            "Guess5: 1- Too low!\n",
            "Guess6: 5- Too low!\n",
            "Guess7: 2- Too low!\n",
            "Guess8: 9- Too high!\n",
            "Guess9: 9- Too high!\n",
            "Guess10: 4- Too low!\n",
            "Guess11: 5- Too low!\n",
            "max attempts reached!\n",
            "Game finished in11 attempts\n"
          ]
        }
      ]
    },
    {
      "cell_type": "markdown",
      "source": [
        "### While loop for Processing"
      ],
      "metadata": {
        "id": "KvVhBBgOz44F"
      }
    },
    {
      "cell_type": "code",
      "source": [
        "def process_queue():\n",
        "  queue=[\"Task 1\",\"Task 2\",\"Task 3\",\"Task 4\"]\n",
        "\n",
        "  while queue:\n",
        "    current_task=queue.pop(0) #Remove first item\n",
        "    print(f\"Processing:{current_task}\")\n",
        "\n",
        "    print(f\"Remaining tasks:{len(queue)}\")\n",
        "\n",
        "  print(\"All tasks completed\")\n",
        "\n",
        "process_queue()"
      ],
      "metadata": {
        "colab": {
          "base_uri": "https://localhost:8080/"
        },
        "id": "GoT9Ipy-0OV1",
        "outputId": "253af159-e483-42f1-b6a2-bc0eeeb59300"
      },
      "execution_count": null,
      "outputs": [
        {
          "output_type": "stream",
          "name": "stdout",
          "text": [
            "Processing:Task 1\n",
            "Remaining tasks:3\n",
            "Processing:Task 2\n",
            "Remaining tasks:2\n",
            "Processing:Task 3\n",
            "Remaining tasks:1\n",
            "Processing:Task 4\n",
            "Remaining tasks:0\n",
            "All tasks completed\n"
          ]
        }
      ]
    },
    {
      "cell_type": "markdown",
      "source": [
        "# Functions **Basics**"
      ],
      "metadata": {
        "id": "FRXDNYZ31dyu"
      }
    },
    {
      "cell_type": "markdown",
      "source": [
        "## Basic Function Definition"
      ],
      "metadata": {
        "id": "j3UvZMX11kH1"
      }
    },
    {
      "cell_type": "code",
      "source": [
        "def greet(name):\n",
        "  return f\"Helloo, {name}!\""
      ],
      "metadata": {
        "id": "AVhe9qdI1t0l"
      },
      "execution_count": null,
      "outputs": []
    },
    {
      "cell_type": "markdown",
      "source": [
        "## **Function call**"
      ],
      "metadata": {
        "id": "v7dpzCeq2TpU"
      }
    },
    {
      "cell_type": "code",
      "source": [
        "message=greet(\"Python programming\")\n",
        "print(message)"
      ],
      "metadata": {
        "colab": {
          "base_uri": "https://localhost:8080/"
        },
        "id": "nifYNZe02XgV",
        "outputId": "86b8c2fe-d0cf-401f-9455-165a997e2ffa"
      },
      "execution_count": null,
      "outputs": [
        {
          "output_type": "stream",
          "name": "stdout",
          "text": [
            "Helloo, Python programming!\n"
          ]
        }
      ]
    },
    {
      "cell_type": "markdown",
      "source": [
        "## function with multiple parameters"
      ],
      "metadata": {
        "id": "Vagh96qV2gUF"
      }
    },
    {
      "cell_type": "code",
      "source": [
        "def calculate_area(length,width):\n",
        "  area= length * width\n",
        "  return area"
      ],
      "metadata": {
        "id": "icl9tH7T2mwd"
      },
      "execution_count": null,
      "outputs": []
    },
    {
      "cell_type": "markdown",
      "source": [
        "## Test the function"
      ],
      "metadata": {
        "id": "B8TZ-IQN3clt"
      }
    },
    {
      "cell_type": "code",
      "source": [
        "room_area=calculate_area(12,10)\n",
        "print(f\"Room area :{room_area} square feet\")"
      ],
      "metadata": {
        "colab": {
          "base_uri": "https://localhost:8080/"
        },
        "id": "t9C2z8XW3fZV",
        "outputId": "48798d7f-8617-4aad-d665-2ff076622b54"
      },
      "execution_count": null,
      "outputs": [
        {
          "output_type": "stream",
          "name": "stdout",
          "text": [
            "Room area :120 square feet\n"
          ]
        }
      ]
    },
    {
      "cell_type": "markdown",
      "source": [
        "## Function with  default parameters"
      ],
      "metadata": {
        "id": "h3vN3Qs54RUl"
      }
    },
    {
      "cell_type": "code",
      "source": [
        "def create_user_profile(name,age=18,location=\"unknown\",active=True):\n",
        "  return {\n",
        "      \"name\":name,\n",
        "      \"age\":age,\n",
        "      \"locatiob\":location,\n",
        "      \"active\":active\n",
        "  }"
      ],
      "metadata": {
        "id": "EkG1q0rG4XQ2"
      },
      "execution_count": null,
      "outputs": []
    },
    {
      "cell_type": "markdown",
      "source": [
        "## Different ways to call"
      ],
      "metadata": {
        "id": "J05UozGo46eO"
      }
    },
    {
      "cell_type": "code",
      "source": [
        "profile1=create_user_profile(\"alice\") # Use defaults\n",
        "profile2=create_user_profile(\"bob\",25) # Override age\n",
        "profile3=create_user_profile(\"charlie\",location=\"new york\",age=30) # Named parameters\n",
        "\n",
        "print(f\"profile 1:{profile1}\")\n",
        "print(f\"profile 2:{profile2}\")\n",
        "print(f\"profile 3:{profile3}\")"
      ],
      "metadata": {
        "colab": {
          "base_uri": "https://localhost:8080/"
        },
        "id": "d4Lcw3LL499E",
        "outputId": "465ab024-2950-4793-ebcd-f60ed20841cc"
      },
      "execution_count": null,
      "outputs": [
        {
          "output_type": "stream",
          "name": "stdout",
          "text": [
            "profile 1:{'name': 'alice', 'age': 18, 'locatiob': 'unknown', 'active': True}\n",
            "profile 2:{'name': 'bob', 'age': 25, 'locatiob': 'unknown', 'active': True}\n",
            "profile 3:{'name': 'charlie', 'age': 30, 'locatiob': 'new york', 'active': True}\n"
          ]
        }
      ]
    },
    {
      "cell_type": "markdown",
      "source": [],
      "metadata": {
        "id": "voxezF-v9UJ9"
      }
    },
    {
      "cell_type": "markdown",
      "source": [
        "# Advance Functions Concepts"
      ],
      "metadata": {
        "id": "5p-jrS-i9XUd"
      }
    },
    {
      "cell_type": "markdown",
      "source": [
        "## Function Returning Multiple values"
      ],
      "metadata": {
        "id": "ey4OicZu9dck"
      }
    },
    {
      "cell_type": "code",
      "source": [
        "def analyze_text(text):\n",
        "  word_count=text.split()\n",
        "  char_count=len(word_count)\n",
        "  char_count_no_spaces=len(text.replace(\" \",\" \"))\n",
        "  return word_count,char_count,char_count_no_spaces"
      ],
      "metadata": {
        "id": "wVHlx6IR9nbc"
      },
      "execution_count": null,
      "outputs": []
    },
    {
      "cell_type": "markdown",
      "source": [
        "## Test with Sample text"
      ],
      "metadata": {
        "id": "rBv23x84-CX9"
      }
    },
    {
      "cell_type": "code",
      "source": [
        "sample_text=\"Python is powerfull programming language\"\n",
        "\n",
        "word_count,char_count,chars_no_space=analyze_text(sample_text)\n",
        "\n",
        "print(f\"Text: '{sample_text}'\")\n",
        "print(f\"Word count: {word_count}\")\n",
        "print(f\"character count: {char_count}\")\n",
        "print(f\"characters (no spaces): {chars_no_space}\")"
      ],
      "metadata": {
        "colab": {
          "base_uri": "https://localhost:8080/"
        },
        "id": "QIJhvmxL-IJc",
        "outputId": "70932a03-21f4-4403-da94-c491b9cf7bb8"
      },
      "execution_count": null,
      "outputs": [
        {
          "output_type": "stream",
          "name": "stdout",
          "text": [
            "Text: 'Python is powerfull programming language'\n",
            "Word count: ['Python', 'is', 'powerfull', 'programming', 'language']\n",
            "character count: 5\n",
            "characters (no spaces): 40\n"
          ]
        }
      ]
    },
    {
      "cell_type": "markdown",
      "source": [
        "## Variable Length argument"
      ],
      "metadata": {
        "id": "pg9wuNdUC0mc"
      }
    },
    {
      "cell_type": "code",
      "source": [
        "def calculate_average(*numbers):\n",
        "  if not numbers:\n",
        "    return 0\n",
        "  return sum(numbers)/len(numbers)"
      ],
      "metadata": {
        "id": "Uk3HAZ8iC5Rk"
      },
      "execution_count": null,
      "outputs": []
    },
    {
      "cell_type": "markdown",
      "source": [
        "### Text with Different Number of argument"
      ],
      "metadata": {
        "id": "mPi6AgTeDmOb"
      }
    },
    {
      "cell_type": "code",
      "source": [
        "avg1= calculate_average(10,20,30)\n",
        "avg2=calculate_average(5,15,25,35,45)\n",
        "avg3=calculate_average(100)\n",
        "print(f\"Average of 10,20,30:{avg1}\")\n",
        "print(f\"Average of 5,15,25,35,45:{avg2}\")\n",
        "print(f\"Average of 100:{avg3}\")\n"
      ],
      "metadata": {
        "colab": {
          "base_uri": "https://localhost:8080/"
        },
        "id": "QBB4Nn21D2Fs",
        "outputId": "ebd73a86-7de0-4e3d-af39-628ceba3cd4f"
      },
      "execution_count": null,
      "outputs": [
        {
          "output_type": "stream",
          "name": "stdout",
          "text": [
            "Average of 10,20,30:20.0\n",
            "Average of 5,15,25,35,45:25.0\n",
            "Average of 100:100.0\n"
          ]
        }
      ]
    },
    {
      "cell_type": "markdown",
      "source": [
        "### Keyword Argument"
      ],
      "metadata": {
        "id": "VaflmH6DEdzs"
      }
    },
    {
      "cell_type": "code",
      "source": [
        "def create_report(**data):\n",
        "  print(\"==REPORT===\")\n",
        "  for key,value in data.items():\n",
        "    print(f\"{key.replace('-','').title()}:{value}\")\n",
        "  print(\"=========\")\n",
        "\n",
        "create_report(title=\"monthly sales report\",date=\"2024-01-01\",total_sales=15000,new_customers=25,returning_customers=159)"
      ],
      "metadata": {
        "colab": {
          "base_uri": "https://localhost:8080/"
        },
        "id": "EMK7XHkEEs58",
        "outputId": "d3380b2e-7b8d-46ae-e16b-e66329d81f93"
      },
      "execution_count": null,
      "outputs": [
        {
          "output_type": "stream",
          "name": "stdout",
          "text": [
            "==REPORT===\n",
            "Title:monthly sales report\n",
            "Date:2024-01-01\n",
            "Total_Sales:15000\n",
            "New_Customers:25\n",
            "Returning_Customers:159\n",
            "=========\n"
          ]
        }
      ]
    },
    {
      "cell_type": "markdown",
      "source": [
        "# Lambda Function"
      ],
      "metadata": {
        "id": "2vhNAGIZFaAt"
      }
    },
    {
      "cell_type": "markdown",
      "source": [
        "## Lambda function (anonymous functions)"
      ],
      "metadata": {
        "id": "7I_9rLWNFn22"
      }
    },
    {
      "cell_type": "markdown",
      "source": [
        "### Regular Functions"
      ],
      "metadata": {
        "id": "wO1fuh67F5NL"
      }
    },
    {
      "cell_type": "code",
      "source": [
        "def square(x):\n",
        "  return x**2"
      ],
      "metadata": {
        "id": "Gp1XCOAnGD9s"
      },
      "execution_count": null,
      "outputs": []
    },
    {
      "cell_type": "markdown",
      "source": [
        "### Lambda equivalent"
      ],
      "metadata": {
        "id": "yIghsEPHGQHU"
      }
    },
    {
      "cell_type": "code",
      "source": [
        "square_lambda=lambda x:x**2\n",
        "print(f\"regular function:{square(5)}\")\n",
        "print(f\"Lambda function: {square_lambda(5)}\")"
      ],
      "metadata": {
        "colab": {
          "base_uri": "https://localhost:8080/"
        },
        "id": "MMf_1qSkGYFc",
        "outputId": "aac04bf5-ba54-44e8-818c-6fbafd87baf2"
      },
      "execution_count": null,
      "outputs": [
        {
          "output_type": "stream",
          "name": "stdout",
          "text": [
            "regular function:25\n",
            "Lambda function: 25\n"
          ]
        }
      ]
    },
    {
      "cell_type": "markdown",
      "source": [
        "### Lambda with multiple arguments"
      ],
      "metadata": {
        "id": "TMi9AORqHQxb"
      }
    },
    {
      "cell_type": "code",
      "source": [
        "multiply = lambda x, y: x*y\n",
        "print(f\"multiply: {multiply(3,4)}\")"
      ],
      "metadata": {
        "colab": {
          "base_uri": "https://localhost:8080/"
        },
        "id": "im58uyM3HXIE",
        "outputId": "36d9411c-bbc8-40c5-f8bb-65ad723b4a8e"
      },
      "execution_count": null,
      "outputs": [
        {
          "output_type": "stream",
          "name": "stdout",
          "text": [
            "multiply: 12\n"
          ]
        }
      ]
    },
    {
      "cell_type": "markdown",
      "source": [
        "### Lambda with built-in functions"
      ],
      "metadata": {
        "id": "avPLP6RpIQ2D"
      }
    },
    {
      "cell_type": "code",
      "source": [
        "numbers=[1,2,3,4,5]\n",
        "squared=list(map(lambda x: x**2,numbers))\n",
        "print(f\"Squared Numbers:{squared}\")"
      ],
      "metadata": {
        "colab": {
          "base_uri": "https://localhost:8080/"
        },
        "id": "tBz3ZDiRIWvD",
        "outputId": "9fb1f5de-2e8a-415f-b74f-6b75c531e815"
      },
      "execution_count": null,
      "outputs": [
        {
          "output_type": "stream",
          "name": "stdout",
          "text": [
            "Squared Numbers:[1, 4, 9, 16, 25]\n"
          ]
        }
      ]
    },
    {
      "cell_type": "markdown",
      "source": [
        "### Filtering with lambda"
      ],
      "metadata": {
        "id": "t9lnSAogJlvL"
      }
    },
    {
      "cell_type": "code",
      "source": [
        "ages=[16,21,35,12,45,18,67]\n",
        "adults=list(filter(lambda age: age >=18, ages))\n",
        "print(f\"Adult ages: {adults}\")"
      ],
      "metadata": {
        "colab": {
          "base_uri": "https://localhost:8080/"
        },
        "id": "uNnvlJAIJqOi",
        "outputId": "32822abf-94c6-4d1f-dde8-33c863562c76"
      },
      "execution_count": null,
      "outputs": [
        {
          "output_type": "stream",
          "name": "stdout",
          "text": [
            "Adult ages: [21, 35, 45, 18, 67]\n"
          ]
        }
      ]
    },
    {
      "cell_type": "markdown",
      "source": [
        "### Sorting with lambda"
      ],
      "metadata": {
        "id": "fnCKeIrPJsSb"
      }
    },
    {
      "cell_type": "code",
      "source": [
        "people = [\n",
        "    {\"name\":\"Alice\",\"age\":25},\n",
        "    {\"name\":\"Bob\",\"age\":25},\n",
        "    {\"name\":\"Charlie\",\"age\":35},\n",
        "]\n",
        "\n",
        "sorted_people=sorted(\n",
        "    people,\n",
        "    key=lambda person:person[\"age\"])\n",
        "print(\"People sorted by age:\")\n",
        "\n",
        "for person in sorted_people:\n",
        "  print(f\"{person['name']}:{person['age']}\")\n"
      ],
      "metadata": {
        "colab": {
          "base_uri": "https://localhost:8080/"
        },
        "id": "Mz-Yv610Jzlk",
        "outputId": "7a5cf1e4-162f-45ea-b54b-36ffd4c85a76"
      },
      "execution_count": null,
      "outputs": [
        {
          "output_type": "stream",
          "name": "stdout",
          "text": [
            "People sorted by age:\n",
            "Alice:25\n",
            "Bob:25\n",
            "Charlie:35\n"
          ]
        }
      ]
    },
    {
      "cell_type": "code",
      "source": [],
      "metadata": {
        "id": "dwKNo5yYKImM"
      },
      "execution_count": null,
      "outputs": []
    }
  ]
}